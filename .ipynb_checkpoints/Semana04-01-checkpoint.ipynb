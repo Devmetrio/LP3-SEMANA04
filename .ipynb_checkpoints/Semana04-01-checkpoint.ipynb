{
 "cells": [
  {
   "cell_type": "markdown",
   "id": "1aaf83ef-3287-4618-90b6-3a42aa51600c",
   "metadata": {
    "tags": []
   },
   "source": [
    "# SEMANA 04 \n",
    "Edison German Ames Medina"
   ]
  },
  {
   "cell_type": "code",
   "execution_count": 9,
   "id": "03aa9ad1-9b96-4dd7-bd58-9aafd7cfd653",
   "metadata": {},
   "outputs": [
    {
     "ename": "NameError",
     "evalue": "name 'Agenda' is not defined",
     "output_type": "error",
     "traceback": [
      "\u001b[1;31m---------------------------------------------------------------------------\u001b[0m",
      "\u001b[1;31mNameError\u001b[0m                                 Traceback (most recent call last)",
      "Input \u001b[1;32mIn [9]\u001b[0m, in \u001b[0;36m<cell line: 1>\u001b[1;34m()\u001b[0m\n\u001b[1;32m----> 1\u001b[0m \u001b[43mAgenda\u001b[49m\n",
      "\u001b[1;31mNameError\u001b[0m: name 'Agenda' is not defined"
     ]
    }
   ],
   "source": [
    "Agenda\n"
   ]
  },
  {
   "cell_type": "code",
   "execution_count": 5,
   "id": "e268a110-f51c-41bf-bbb6-82ef1ff54a53",
   "metadata": {},
   "outputs": [
    {
     "data": {
      "text/plain": [
       "16"
      ]
     },
     "execution_count": 5,
     "metadata": {},
     "output_type": "execute_result"
    }
   ],
   "source": [
    "7+9"
   ]
  },
  {
   "cell_type": "code",
   "execution_count": 7,
   "id": "12e69b6c-39bb-4035-b439-8df78fffc192",
   "metadata": {},
   "outputs": [
    {
     "data": {
      "text/plain": [
       "11"
      ]
     },
     "execution_count": 7,
     "metadata": {},
     "output_type": "execute_result"
    }
   ],
   "source": [
    "36-25"
   ]
  },
  {
   "cell_type": "code",
   "execution_count": null,
   "id": "0eaac3c8-08b3-4583-837d-f11aea95fa0b",
   "metadata": {},
   "outputs": [],
   "source": []
  }
 ],
 "metadata": {
  "kernelspec": {
   "display_name": "Python 3 (ipykernel)",
   "language": "python",
   "name": "python3"
  },
  "language_info": {
   "codemirror_mode": {
    "name": "ipython",
    "version": 3
   },
   "file_extension": ".py",
   "mimetype": "text/x-python",
   "name": "python",
   "nbconvert_exporter": "python",
   "pygments_lexer": "ipython3",
   "version": "3.9.12"
  }
 },
 "nbformat": 4,
 "nbformat_minor": 5
}
