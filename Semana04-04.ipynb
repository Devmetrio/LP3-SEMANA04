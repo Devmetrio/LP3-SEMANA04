{
 "cells": [
  {
   "cell_type": "markdown",
   "id": "c7d79076-c2c1-4ad2-a80d-075a757877f5",
   "metadata": {},
   "source": [
    "# Semana 04\n",
    "Edison German Ames Medina"
   ]
  },
  {
   "cell_type": "markdown",
   "id": "ace82a3c-8776-4665-ba53-495535f4f7d1",
   "metadata": {},
   "source": [
    "Agenda\n",
    "1. Números\n",
    "2. Variables\n",
    "3. Manejo de cadenas\n",
    "4. Ingreso por el teclado\n",
    "5. Operaciones"
   ]
  },
  {
   "cell_type": "markdown",
   "id": "2cfa99f8-d2ee-47e6-9df6-854189ff738c",
   "metadata": {},
   "source": [
    "4. Ingreso de datos por teclado\n"
   ]
  },
  {
   "cell_type": "code",
   "execution_count": 1,
   "id": "56ae06d5-c65c-46bb-b2dc-e333da5c654e",
   "metadata": {},
   "outputs": [
    {
     "name": "stdin",
     "output_type": "stream",
     "text": [
      "¿Cuál es tu nombre?\n",
      " German\n"
     ]
    },
    {
     "name": "stdout",
     "output_type": "stream",
     "text": [
      "Buenos días German\n"
     ]
    }
   ],
   "source": [
    "# Función input\n",
    "nombre = input(\"¿Cuál es tu nombre?\\n\")\n",
    "print(\"Buenos días \" + nombre)"
   ]
  },
  {
   "cell_type": "code",
   "execution_count": 2,
   "id": "b9e8f855-2f15-4445-a82c-1492e73d98a8",
   "metadata": {},
   "outputs": [
    {
     "name": "stdout",
     "output_type": "stream",
     "text": [
      "Número 1: \n"
     ]
    },
    {
     "name": "stdin",
     "output_type": "stream",
     "text": [
      " 10\n"
     ]
    },
    {
     "name": "stdout",
     "output_type": "stream",
     "text": [
      "Número 2: \n"
     ]
    },
    {
     "name": "stdin",
     "output_type": "stream",
     "text": [
      " 28\n"
     ]
    },
    {
     "name": "stdout",
     "output_type": "stream",
     "text": [
      "El resultado es 38\n"
     ]
    }
   ],
   "source": [
    "#Cuando ingresas un valor por teclado lo hace como cadena\n",
    "print(\"Número 1: \")\n",
    "numero1 = input()\n",
    "print(\"Número 2: \")\n",
    "numero2 = input()\n",
    "numero3 = int(numero1) + int(numero2)\n",
    "print(f\"El resultado es {numero3}\")"
   ]
  },
  {
   "cell_type": "code",
   "execution_count": null,
   "id": "5df75b7f-0ebf-4e3a-8de2-441fc18b69dc",
   "metadata": {},
   "outputs": [],
   "source": []
  }
 ],
 "metadata": {
  "kernelspec": {
   "display_name": "Python 3 (ipykernel)",
   "language": "python",
   "name": "python3"
  },
  "language_info": {
   "codemirror_mode": {
    "name": "ipython",
    "version": 3
   },
   "file_extension": ".py",
   "mimetype": "text/x-python",
   "name": "python",
   "nbconvert_exporter": "python",
   "pygments_lexer": "ipython3",
   "version": "3.9.12"
  }
 },
 "nbformat": 4,
 "nbformat_minor": 5
}
