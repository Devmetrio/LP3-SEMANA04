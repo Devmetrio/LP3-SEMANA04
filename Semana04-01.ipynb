{
 "cells": [
  {
   "cell_type": "markdown",
   "id": "1aaf83ef-3287-4618-90b6-3a42aa51600c",
   "metadata": {
    "tags": []
   },
   "source": [
    "# SEMANA 04 \n",
    "Edison German Ames Medina"
   ]
  },
  {
   "cell_type": "markdown",
   "id": "0a4e113b-04bd-4e6e-95de-97ba49e968b0",
   "metadata": {},
   "source": [
    "Agenda\n",
    "1. Números\n",
    "2. Variables\n",
    "3. Manejo de cadenas\n",
    "4. Ingreso por el teclado\n",
    "5. Operaciones"
   ]
  },
  {
   "cell_type": "code",
   "execution_count": 5,
   "id": "e268a110-f51c-41bf-bbb6-82ef1ff54a53",
   "metadata": {},
   "outputs": [
    {
     "data": {
      "text/plain": [
       "16"
      ]
     },
     "execution_count": 5,
     "metadata": {},
     "output_type": "execute_result"
    }
   ],
   "source": [
    "7+9"
   ]
  },
  {
   "cell_type": "code",
   "execution_count": 7,
   "id": "12e69b6c-39bb-4035-b439-8df78fffc192",
   "metadata": {},
   "outputs": [
    {
     "data": {
      "text/plain": [
       "11"
      ]
     },
     "execution_count": 7,
     "metadata": {},
     "output_type": "execute_result"
    }
   ],
   "source": [
    "36-25"
   ]
  },
  {
   "cell_type": "code",
   "execution_count": 10,
   "id": "0eaac3c8-08b3-4583-837d-f11aea95fa0b",
   "metadata": {},
   "outputs": [
    {
     "data": {
      "text/plain": [
       "174270"
      ]
     },
     "execution_count": 10,
     "metadata": {},
     "output_type": "execute_result"
    }
   ],
   "source": [
    "74*2355"
   ]
  },
  {
   "cell_type": "code",
   "execution_count": 11,
   "id": "6eca7260-1c4e-4f41-b749-30eddd7bb6b7",
   "metadata": {},
   "outputs": [
    {
     "data": {
      "text/plain": [
       "4.640287769784172"
      ]
     },
     "execution_count": 11,
     "metadata": {},
     "output_type": "execute_result"
    }
   ],
   "source": [
    "2580/556"
   ]
  },
  {
   "cell_type": "code",
   "execution_count": null,
   "id": "410fd452-50be-4a13-ae2c-a07a617efdb6",
   "metadata": {},
   "outputs": [],
   "source": []
  }
 ],
 "metadata": {
  "kernelspec": {
   "display_name": "Python 3 (ipykernel)",
   "language": "python",
   "name": "python3"
  },
  "language_info": {
   "codemirror_mode": {
    "name": "ipython",
    "version": 3
   },
   "file_extension": ".py",
   "mimetype": "text/x-python",
   "name": "python",
   "nbconvert_exporter": "python",
   "pygments_lexer": "ipython3",
   "version": "3.9.12"
  },
  "toc-showcode": false
 },
 "nbformat": 4,
 "nbformat_minor": 5
}
