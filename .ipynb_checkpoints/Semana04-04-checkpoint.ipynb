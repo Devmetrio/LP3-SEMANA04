{
 "cells": [
  {
   "cell_type": "markdown",
   "id": "c7d79076-c2c1-4ad2-a80d-075a757877f5",
   "metadata": {},
   "source": [
    "# Semana 04\n",
    "Edison German Ames Medina"
   ]
  },
  {
   "cell_type": "markdown",
   "id": "ace82a3c-8776-4665-ba53-495535f4f7d1",
   "metadata": {},
   "source": [
    "Agenda\n",
    "1. Números\n",
    "2. Variables\n",
    "3. Manejo de cadenas\n",
    "4. Ingreso por el teclado\n",
    "5. Operaciones"
   ]
  },
  {
   "cell_type": "code",
   "execution_count": null,
   "id": "dc876026-2f4d-42b6-8778-f968c3caaf5f",
   "metadata": {},
   "outputs": [],
   "source": []
  }
 ],
 "metadata": {
  "kernelspec": {
   "display_name": "",
   "name": ""
  },
  "language_info": {
   "name": ""
  }
 },
 "nbformat": 4,
 "nbformat_minor": 5
}
