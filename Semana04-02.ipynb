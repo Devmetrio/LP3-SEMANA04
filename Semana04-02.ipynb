{
 "cells": [
  {
   "cell_type": "markdown",
   "id": "12d55d89-2b13-4d32-a435-3f9e84e09813",
   "metadata": {},
   "source": [
    "# SEMANA 04\n",
    "Edison German Ames Medina"
   ]
  },
  {
   "cell_type": "markdown",
   "id": "f3623c97-682a-4fd7-8bdb-2dfa92c1aa4a",
   "metadata": {},
   "source": [
    "Agenda\n",
    "1. Números\n",
    "2. Variables\n",
    "3. Manejo de cadenas\n",
    "4. Ingreso por el teclado\n",
    "5. Operaciones"
   ]
  },
  {
   "cell_type": "markdown",
   "id": "d6daf05c-b33f-4f34-88a4-c451293003d7",
   "metadata": {},
   "source": [
    "2. Variables"
   ]
  },
  {
   "cell_type": "code",
   "execution_count": null,
   "id": "383d29fb-83b9-4b91-83e5-35cca2c2879f",
   "metadata": {},
   "outputs": [],
   "source": [
    "# Se debe iniciar siempre con una letra o un guión abajo. (Nunca con un número u otro signo)"
   ]
  },
  {
   "cell_type": "code",
   "execution_count": 4,
   "id": "f7699ba3-d5f9-4cf2-8f12-e3fa1acd85a9",
   "metadata": {},
   "outputs": [],
   "source": [
    "edad = 21"
   ]
  },
  {
   "cell_type": "code",
   "execution_count": 5,
   "id": "e32d8d0c-ec9f-4380-96fe-e9a31a801d1a",
   "metadata": {},
   "outputs": [
    {
     "data": {
      "text/plain": [
       "21"
      ]
     },
     "execution_count": 5,
     "metadata": {},
     "output_type": "execute_result"
    }
   ],
   "source": [
    "edad"
   ]
  },
  {
   "cell_type": "code",
   "execution_count": 6,
   "id": "d04e8c4e-11ff-47f9-bd9b-d9c7dd8e5f1a",
   "metadata": {},
   "outputs": [],
   "source": [
    "nombre = \"Rendón\""
   ]
  },
  {
   "cell_type": "code",
   "execution_count": 7,
   "id": "5b398b7b-83e0-49ac-8ac3-71f3b99dc872",
   "metadata": {},
   "outputs": [
    {
     "data": {
      "text/plain": [
       "'Rendón'"
      ]
     },
     "execution_count": 7,
     "metadata": {},
     "output_type": "execute_result"
    }
   ],
   "source": [
    "nombre"
   ]
  },
  {
   "cell_type": "code",
   "execution_count": 8,
   "id": "a7c05c06-dfc3-40a3-9a5b-9b1498db6ff2",
   "metadata": {},
   "outputs": [],
   "source": [
    "apellido = \"Willka\""
   ]
  },
  {
   "cell_type": "code",
   "execution_count": 9,
   "id": "5fc780dd-93ab-443a-8aa9-8017ce019e5d",
   "metadata": {},
   "outputs": [
    {
     "data": {
      "text/plain": [
       "'Willka'"
      ]
     },
     "execution_count": 9,
     "metadata": {},
     "output_type": "execute_result"
    }
   ],
   "source": [
    "apellido"
   ]
  },
  {
   "cell_type": "code",
   "execution_count": 10,
   "id": "b6cb2b61-8bed-462c-a6a1-5490297ec53b",
   "metadata": {},
   "outputs": [],
   "source": [
    "nombreCompleto = nombre + \" \"+ apellido"
   ]
  },
  {
   "cell_type": "code",
   "execution_count": 11,
   "id": "78491458-4f72-41b7-aefe-24ef955790d4",
   "metadata": {},
   "outputs": [
    {
     "data": {
      "text/plain": [
       "'Rendón Willka'"
      ]
     },
     "execution_count": 11,
     "metadata": {},
     "output_type": "execute_result"
    }
   ],
   "source": [
    "nombreCompleto"
   ]
  },
  {
   "cell_type": "code",
   "execution_count": null,
   "id": "33916e2f-a01c-4c0f-91de-e25c21b3ea92",
   "metadata": {},
   "outputs": [],
   "source": [
    "#Para saber el tipo de variable utilizamos la función type()\n",
    "#Por ejemplo:"
   ]
  },
  {
   "cell_type": "code",
   "execution_count": 12,
   "id": "0ba7aaf2-369b-490d-97e8-9c5f926cf5ca",
   "metadata": {},
   "outputs": [
    {
     "data": {
      "text/plain": [
       "int"
      ]
     },
     "execution_count": 12,
     "metadata": {},
     "output_type": "execute_result"
    }
   ],
   "source": [
    "numero = 50\n",
    "type(numero)"
   ]
  },
  {
   "cell_type": "code",
   "execution_count": 13,
   "id": "4cacd82a-bf1e-47c7-af66-53f86fe7a567",
   "metadata": {},
   "outputs": [
    {
     "data": {
      "text/plain": [
       "str"
      ]
     },
     "execution_count": 13,
     "metadata": {},
     "output_type": "execute_result"
    }
   ],
   "source": [
    "type(nombreCompleto)"
   ]
  },
  {
   "cell_type": "code",
   "execution_count": 14,
   "id": "1d966b39-22e5-446f-a811-7dbe8710f430",
   "metadata": {},
   "outputs": [
    {
     "data": {
      "text/plain": [
       "1.7"
      ]
     },
     "execution_count": 14,
     "metadata": {},
     "output_type": "execute_result"
    }
   ],
   "source": [
    "talla = 1.70\n",
    "talla"
   ]
  },
  {
   "cell_type": "code",
   "execution_count": 15,
   "id": "7eddfbd0-7a7a-4d15-89da-5a30f676bf8f",
   "metadata": {},
   "outputs": [
    {
     "data": {
      "text/plain": [
       "float"
      ]
     },
     "execution_count": 15,
     "metadata": {},
     "output_type": "execute_result"
    }
   ],
   "source": [
    "type(talla)"
   ]
  },
  {
   "cell_type": "code",
   "execution_count": 16,
   "id": "634662b1-c827-444f-b60d-8f74c3d586a4",
   "metadata": {},
   "outputs": [
    {
     "data": {
      "text/plain": [
       "'100'"
      ]
     },
     "execution_count": 16,
     "metadata": {},
     "output_type": "execute_result"
    }
   ],
   "source": [
    "#Para convertir un número en cadena utilizamos str()\n",
    "numero = 100\n",
    "cadena = str(numero)\n",
    "cadena"
   ]
  },
  {
   "cell_type": "code",
   "execution_count": 17,
   "id": "2bdeb772-b667-4425-8b71-be021e1fb10c",
   "metadata": {},
   "outputs": [
    {
     "data": {
      "text/plain": [
       "str"
      ]
     },
     "execution_count": 17,
     "metadata": {},
     "output_type": "execute_result"
    }
   ],
   "source": [
    "type(cadena)"
   ]
  },
  {
   "cell_type": "code",
   "execution_count": 18,
   "id": "2da15a37-b33f-4c41-8562-34a1a3744765",
   "metadata": {},
   "outputs": [
    {
     "data": {
      "text/plain": [
       "50"
      ]
     },
     "execution_count": 18,
     "metadata": {},
     "output_type": "execute_result"
    }
   ],
   "source": [
    "#Para convertir una cadena en un entero utilizamos int()\n",
    "cadena2 = \"50\"\n",
    "numero2 = int(cadena2)\n",
    "numero2"
   ]
  },
  {
   "cell_type": "code",
   "execution_count": 19,
   "id": "510dc213-94de-47b5-b1ff-4d759458ea51",
   "metadata": {},
   "outputs": [
    {
     "data": {
      "text/plain": [
       "int"
      ]
     },
     "execution_count": 19,
     "metadata": {},
     "output_type": "execute_result"
    }
   ],
   "source": [
    "type(numero2)"
   ]
  },
  {
   "cell_type": "code",
   "execution_count": 20,
   "id": "63ff7f22-2cf4-4930-aac0-5a6b4ffd6382",
   "metadata": {},
   "outputs": [
    {
     "data": {
      "text/plain": [
       "50.0"
      ]
     },
     "execution_count": 20,
     "metadata": {},
     "output_type": "execute_result"
    }
   ],
   "source": [
    "#Para convertir una cadena a un decimal utilizamos float()\n",
    "cadena3 = \"50\"\n",
    "numero3 = float(cadena3)\n",
    "numero3"
   ]
  },
  {
   "cell_type": "code",
   "execution_count": null,
   "id": "47b9b4b3-ee70-4343-8910-678d832063cd",
   "metadata": {},
   "outputs": [
    {
     "data": {
      "text/plain": [
       "float"
      ]
     },
     "execution_count": 21,
     "metadata": {},
     "output_type": "execute_result"
    }
   ],
   "source": [
    "type(numero3)\n"
   ]
  }
 ],
 "metadata": {
  "kernelspec": {
   "display_name": "Python 3 (ipykernel)",
   "language": "python",
   "name": "python3"
  },
  "language_info": {
   "codemirror_mode": {
    "name": "ipython",
    "version": 3
   },
   "file_extension": ".py",
   "mimetype": "text/x-python",
   "name": "python",
   "nbconvert_exporter": "python",
   "pygments_lexer": "ipython3",
   "version": "3.9.12"
  },
  "toc-showcode": true
 },
 "nbformat": 4,
 "nbformat_minor": 5
}
