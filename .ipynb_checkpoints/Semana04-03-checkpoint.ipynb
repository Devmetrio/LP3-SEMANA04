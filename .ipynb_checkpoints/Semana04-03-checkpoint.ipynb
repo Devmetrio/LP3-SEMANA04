{
 "cells": [
  {
   "cell_type": "markdown",
   "id": "034e286a-2945-45ce-8139-d782199dcd4d",
   "metadata": {},
   "source": [
    "# Semana 04\n",
    "Edison German Ames Medina"
   ]
  },
  {
   "cell_type": "markdown",
   "id": "6822671d-894b-4339-846d-46183b50f3f5",
   "metadata": {},
   "source": [
    "Agenda\n",
    "1. Números\n",
    "2. Variables\n",
    "3. Manejo de cadenas\n",
    "4. Ingreso por el teclado\n",
    "5. Operaciones"
   ]
  },
  {
   "cell_type": "code",
   "execution_count": 1,
   "id": "65f83bdb-e32e-439e-86f8-4c6416b6eb8f",
   "metadata": {},
   "outputs": [
    {
     "data": {
      "text/plain": [
       "'Universidad Nacional Tecnológica de Lima Sur'"
      ]
     },
     "execution_count": 1,
     "metadata": {},
     "output_type": "execute_result"
    }
   ],
   "source": [
    "cadena = \"Universidad Nacional Tecnológica de Lima Sur\"\n",
    "cadena"
   ]
  },
  {
   "cell_type": "code",
   "execution_count": 2,
   "id": "a70adc94-a323-4520-9f5e-6e067aa02d42",
   "metadata": {},
   "outputs": [],
   "source": [
    "#Universidad Nacional Tecnológica de Lima Sur\n",
    "#0123....\n",
    "#                                  ....-3-2-1"
   ]
  },
  {
   "cell_type": "code",
   "execution_count": 3,
   "id": "fffccd63-8df2-4047-9e1e-ab04af5677f9",
   "metadata": {},
   "outputs": [
    {
     "data": {
      "text/plain": [
       "'r'"
      ]
     },
     "execution_count": 3,
     "metadata": {},
     "output_type": "execute_result"
    }
   ],
   "source": [
    "cadena[5]\n"
   ]
  },
  {
   "cell_type": "code",
   "execution_count": null,
   "id": "341851e2-b6ef-4053-86c6-d65a10aab81e",
   "metadata": {},
   "outputs": [],
   "source": []
  }
 ],
 "metadata": {
  "kernelspec": {
   "display_name": "Python 3 (ipykernel)",
   "language": "python",
   "name": "python3"
  },
  "language_info": {
   "codemirror_mode": {
    "name": "ipython",
    "version": 3
   },
   "file_extension": ".py",
   "mimetype": "text/x-python",
   "name": "python",
   "nbconvert_exporter": "python",
   "pygments_lexer": "ipython3",
   "version": "3.9.12"
  }
 },
 "nbformat": 4,
 "nbformat_minor": 5
}
